{
 "cells": [
  {
   "cell_type": "markdown",
   "metadata": {},
   "source": [
    "# Python model of the radar link equation for Metsähovi SLR\n",
    "\n",
    "This notebook is an interactive Python version of the radar link equation as given in Degnan (1993), and earlier implemented in Excel by Diego.\n",
    "\n",
    "The equation gives the number of photoelectrons expected to be received for a single laser pulse,\n",
    "\n",
    "\\begin{align}\n",
    "n_e = \\eta_q \\left( E_T \\frac{\\lambda}{hc} \\right)  \\eta_t G_t \\sigma \\left( \\frac{1}{4 \\pi R^2}\\right)^2A_r \\eta_r T_a^2 T_c^2,\n",
    "\\end{align}\n",
    "\n",
    "where $\\eta_q$ is the detector quantum efficiency, $E_T$ is the energy of the laser pulse, $\\lambda$ is the laser wavelength, $h$ the Planck constant, $c$ the speed of light, $\\eta_t$ the efficiency of the transmit optics, $G_t$ the transmitter gain, $\\sigma$ the target's optical cross section, $R$ the slant range to the target, $A_r$ the telescope aperture area, $\\eta_r$ the efficiency of the receive optics, $T_a$ the one-way atmospheric transmission and $T_c$ the one-way transmission of cirrus clouds.\n"
   ]
  },
  {
   "cell_type": "markdown",
   "metadata": {},
   "source": [
    "## Utility functions and constants\n",
    "\n",
    "We first import and define some utility functions and natural constants that are used in the calculation. First we import some mathematical functions and matplotlib for plots (and give the `%matplotlib inline` command to the Notebook to draw the plots inline instead of separate windows)."
   ]
  },
  {
   "cell_type": "code",
   "execution_count": 1,
   "metadata": {
    "collapsed": false
   },
   "outputs": [],
   "source": [
    "from math import sqrt, cos, pi, exp, factorial\n",
    "from scipy.special import comb\n",
    "import numpy as np\n",
    "import matplotlib.pyplot as plt\n",
    "%matplotlib inline\n",
    "plt.rcParams['figure.figsize'] = (10, 6)"
   ]
  },
  {
   "cell_type": "markdown",
   "metadata": {},
   "source": [
    "Next we define constants: the product of the Planck constant and the speed of light, and the radius of the Earth (in meters)."
   ]
  },
  {
   "cell_type": "code",
   "execution_count": 2,
   "metadata": {
    "collapsed": true
   },
   "outputs": [],
   "source": [
    "CONST_HC = 6.626176e-34 * 2.99792458e8\n",
    "R_Earth = 6378000.0"
   ]
  },
  {
   "cell_type": "markdown",
   "metadata": {},
   "source": [
    "Next is a function that takes all the values in a Python dictionary and multiplies them together. This is used in calculating the optical efficiencies from individual optical components."
   ]
  },
  {
   "cell_type": "code",
   "execution_count": 3,
   "metadata": {
    "collapsed": true
   },
   "outputs": [],
   "source": [
    "def multiply_values(D):\n",
    "    result = 1\n",
    "    for value in D.values():\n",
    "        result *= value\n",
    "    return result"
   ]
  },
  {
   "cell_type": "markdown",
   "metadata": {},
   "source": [
    "## Properties of the laser and telescope\n",
    "\n",
    "Here we define the laser pulse energy $E_T$ (in Joules) and the wavelength $\\lambda$ (in meters)."
   ]
  },
  {
   "cell_type": "code",
   "execution_count": 4,
   "metadata": {
    "collapsed": true
   },
   "outputs": [],
   "source": [
    "pulse_energy = 4e-4 # Joules\n",
    "wavelength = 532e-9 # meters\n",
    "eta_q = 0.2\n",
    "aperture = 0.188 # square meters\n",
    "station_altitude = 64.5 # meters"
   ]
  },
  {
   "cell_type": "markdown",
   "metadata": {},
   "source": [
    "## Optical efficiencies\n",
    "\n",
    "The transmit/receive optical efficiencies $\\eta_t$ and $\\eta_r$ are products of the efficiencies of all of the individual optical elements. These individual efficiencies are given in a Python dictionary, whose values are then multiplied together to get the final value.\n",
    "\n",
    "### Transmit efficiency"
   ]
  },
  {
   "cell_type": "code",
   "execution_count": 5,
   "metadata": {
    "collapsed": true
   },
   "outputs": [],
   "source": [
    "transmit_optics = {\n",
    "    \"TM1\" : 1.00000,\n",
    "    \"TM2\" : 0.99995,\n",
    "    \"TM3\" : 0.99995,\n",
    "    \"BEx1\" : 0.99900,\n",
    "    \"TM4\" : 0.99995,\n",
    "    \"TM5\" : 0.99000,\n",
    "    \"CW1\" : 0.99900,\n",
    "    \"CM1\" : 0.99000,\n",
    "    \"CM2\" : 0.99000,\n",
    "    \"CM3\" : 0.99000,\n",
    "    \"CM4\" : 0.99000,\n",
    "    \"CM5\" : 0.99000,\n",
    "    \"BEx2\" : 0.99900,\n",
    "    \"CW2\" : 0.99900\n",
    "}"
   ]
  },
  {
   "cell_type": "markdown",
   "metadata": {},
   "source": [
    "These values are multiplied to compute $\\eta_t$."
   ]
  },
  {
   "cell_type": "code",
   "execution_count": 6,
   "metadata": {
    "collapsed": false
   },
   "outputs": [
    {
     "name": "stdout",
     "output_type": "stream",
     "text": [
      "eta_t = 0.93758\n"
     ]
    }
   ],
   "source": [
    "eta_t = multiply_values(transmit_optics)\n",
    "\n",
    "print(\"eta_t = {:.5f}\".format(eta_t))"
   ]
  },
  {
   "cell_type": "markdown",
   "metadata": {},
   "source": [
    "### Receive efficiency\n",
    "\n",
    "The bandpass filter value is $0.900$ for night time observations and $0.600$ for the daytime filter. This is defined conditionally on the variable `night`."
   ]
  },
  {
   "cell_type": "code",
   "execution_count": 7,
   "metadata": {
    "collapsed": true
   },
   "outputs": [],
   "source": [
    "night = True"
   ]
  },
  {
   "cell_type": "markdown",
   "metadata": {},
   "source": [
    "Then we compute the value of $\\eta_r$ from the values of the optics."
   ]
  },
  {
   "cell_type": "code",
   "execution_count": 8,
   "metadata": {
    "collapsed": true
   },
   "outputs": [],
   "source": [
    "receive_optics = {\n",
    "    \"telW\" : 0.999,\n",
    "    \"primM\" : 0.960,\n",
    "    \"secM\" : 0.960,\n",
    "    \"detBoxW\" : 0.999,\n",
    "    \"coll\" : 0.999,\n",
    "    \"DichM1\" : 0.990,\n",
    "    \"bandpass\" : 0.900 if night else 0.600,\n",
    "    \"NDfilter\" : 0.999\n",
    "}"
   ]
  },
  {
   "cell_type": "code",
   "execution_count": 9,
   "metadata": {
    "collapsed": false
   },
   "outputs": [
    {
     "name": "stdout",
     "output_type": "stream",
     "text": [
      "eta_r = 0.81787\n"
     ]
    }
   ],
   "source": [
    "eta_r = multiply_values(receive_optics)\n",
    "\n",
    "print(\"eta_r = {:.5f}\".format(eta_r))"
   ]
  },
  {
   "cell_type": "markdown",
   "metadata": {},
   "source": [
    "## Slant range calculation\n",
    "\n",
    "The following function computes the slant range to the target, given the station height (from a spherical Earth) and the target height, as well as the zenith angle to the target.\n",
    "\n",
    "The slant range is defined by Degnan (1993) as \n",
    "\n",
    "\\begin{align}\n",
    "R = -(R_E + H_t) \\cos \\theta_z + \\sqrt{(R_E + h_t)^2 \\cos^2 \\theta_z + 2 R_E (h_s - h_t)+ h_s^2 - h_t^2},\n",
    "\\end{align}\n",
    "\n",
    "where $R_E$ is the Earth radius (6378 km), $h_t$ is the station height above the Earth surface, $h_s$ is the satellite's altitude, and $\\theta_z$ is the zenith angle of the satellite as seen from the station.\n",
    "\n",
    "The Python function takes the zenith angle in degrees."
   ]
  },
  {
   "cell_type": "code",
   "execution_count": 10,
   "metadata": {
    "collapsed": true
   },
   "outputs": [],
   "source": [
    "def slant_range(h_station, h_target, theta_z):\n",
    "    r_station = R_Earth + h_station\n",
    "    cosz = cos(theta_z * pi/180)\n",
    "    t = sqrt(r_station**2 * cosz**2 + 2*R_Earth*(h_target-h_station) + h_target**2 - h_station**2)\n",
    "    return -r_station * cosz + t"
   ]
  },
  {
   "cell_type": "markdown",
   "metadata": {},
   "source": [
    "## Transmitter gain\n",
    "\n",
    "The formula given by Degnan (1993) for $G_t$ of a Gaussian beam is\n",
    "\n",
    "\\begin{align}\n",
    "G_t = \\frac{8}{\\theta_t^2}\\exp\\left[ -2 \\left( \\frac{\\theta}{\\theta_t} \\right) \\right],\n",
    "\\end{align}\n",
    "\n",
    "where $\\theta_t$ is the far-field divergence half-angle between the beam centre and the $1/e^2$ intensity point, and $\\theta$ is the beam pointing error ($\\theta$ is labeled \"seeing\" in Diego's Excel).\n",
    "\n",
    "The Python function takes in the angles in arcseconds. The multiplication by the constant $0.0000048481$ converts arcseconds to radians."
   ]
  },
  {
   "cell_type": "code",
   "execution_count": 11,
   "metadata": {
    "collapsed": true
   },
   "outputs": [],
   "source": [
    "def gain(theta_t, theta):\n",
    "    return 8/(0.0000048481*theta_t)**2 * exp(-2*(theta/theta_t)**2)"
   ]
  },
  {
   "cell_type": "markdown",
   "metadata": {},
   "source": [
    "In Diego's Excel, the value of 2.5 arcseconds was used for both of these angles."
   ]
  },
  {
   "cell_type": "code",
   "execution_count": 12,
   "metadata": {
    "collapsed": false
   },
   "outputs": [
    {
     "name": "stdout",
     "output_type": "stream",
     "text": [
      "Gt = 7.3702e+09\n"
     ]
    }
   ],
   "source": [
    "Gt = gain(2.5, 2.5)\n",
    "\n",
    "print(\"Gt = {:.4e}\".format(Gt))"
   ]
  },
  {
   "cell_type": "markdown",
   "metadata": {},
   "source": [
    "## Atmospheric effects\n",
    "\n",
    "### Atmospheric transmittance\n",
    "\n",
    "Atmospheric transmittance $T_A$ is given by Degnan (1993) as\n",
    "\n",
    "\\begin{align}\n",
    "T_A(\\lambda, V, h_t) = \\exp \\left[ -\\sigma_\\text{atm}(\\lambda, V, 0) h_\\text{scale} \\sec \\theta_z \\exp \\left( -\\frac{h_t}{h_\\text{scale}}\\right) \\right],\n",
    "\\end{align}\n",
    "\n",
    "where $h_t$ is the target altitude, $\\sigma_\\text{atm}(\\lambda, V, 0)$ is the attenuation coefficient at wavelength $\\lambda$ at sea level visibility $V$ at sea level altitude, and the scale height $h_\\text{scale}$ = 1.2 km. The attenuation coefficient $\\sigma$ is highly wavelength-dependent. Degnan doesn't give a value for $\\sigma$, but refers to the RCA Electro-Optics Handbook for plots of $\\sigma$ as a function of $\\lambda$ and $V$.\n",
    "\n",
    "Diego used hard-coded values for $T_A$. His values were computed from a simplified model where each unit of air mass $\\sec \\theta_z$ reduces the transmittance by a constant value.\n",
    "\n",
    "\\begin{align}\n",
    "T_A &= T_0 - \\Delta T \\sec \\theta_z,\n",
    "\\end{align}\n",
    "\n",
    "The values he used can be found by examining the table in his Excel sheet. The change by air mass $\\Delta T$ is $0.15$ for green light and $0.07$ for infrared light. The value of $T_0$ depends on the atmospheric conditions like so:\n",
    "\n",
    "| Condition      | V       | $T_0$, green | $T_0$, IR |\n",
    "|----------------|---------|---------------------------\n",
    "| Very clear     | 50 km   |     0.95     |   1.04    |\n",
    "| Standard clear | 23.5 km |     0.84     |   0.93    |\n",
    "| Clear          | 15 km   |     0.72     |   0.82    |\n",
    "| Light haze     | 8 km    |     0.59     |   0.54    |\n",
    "\n",
    "Here's a Python implementation that takes the $T_0$ and $\\Delta T$ parameters, as well as $\\theta_z$ in degrees."
   ]
  },
  {
   "cell_type": "code",
   "execution_count": 13,
   "metadata": {
    "collapsed": false
   },
   "outputs": [],
   "source": [
    "def atmospheric_transmittance(T0, delta, theta_z):\n",
    "    theta_z *= pi/180\n",
    "    return T0 - delta / cos(theta_z)"
   ]
  },
  {
   "cell_type": "markdown",
   "metadata": {},
   "source": [
    "### Cirrus transmittance\n",
    "\n",
    "Cirrus cloud transmittance is given by Degnan as\n",
    "\n",
    "\\begin{align}\n",
    "T_c = -\\exp(-0.14 (t \\sec \\theta_z)^2),\n",
    "\\end{align}\n",
    "\n",
    "where $t$ is a \"cirrus cloud thickness\", that has been observed to be in the 0 to 4 range when clouds are present (see Figure 9a in Degnan's paper). The angle $\\theta_z$ should be given to the function in degrees."
   ]
  },
  {
   "cell_type": "code",
   "execution_count": 14,
   "metadata": {
    "collapsed": false
   },
   "outputs": [],
   "source": [
    "def cirrus_transmittance(t, theta_z):\n",
    "    theta_z *= pi/180\n",
    "    return exp(-0.14 * (t / cos(theta_z))**2)"
   ]
  },
  {
   "cell_type": "markdown",
   "metadata": {},
   "source": [
    "## The radar link equation\n",
    "\n",
    "Finally, here is the Python implementation of the radar link equation, \n",
    "\n",
    "\\begin{align}\n",
    "n_e= \\eta_q \\left( E_T \\frac{\\lambda}{hc} \\right)  \\eta_t G_t \\sigma \\left( \\frac{1}{4 \\pi R^2}\\right)^2A_r \\eta_r T_a^2 T_c^2.\n",
    "\\end{align}\n",
    "\n",
    "The variables are given to the function in the same order as they appear in the equation."
   ]
  },
  {
   "cell_type": "code",
   "execution_count": 15,
   "metadata": {
    "collapsed": true
   },
   "outputs": [],
   "source": [
    "def n_electrons(eta_q, pulse_energy, wavelength, eta_t, transmit_gain, cross_section,\n",
    "                R, aperture, eta_r, T_atmos, T_cirrus):\n",
    "    N = eta_q * pulse_energy * wavelength / CONST_HC\n",
    "    N *= eta_t * transmit_gain * cross_section / (4*pi*R**2)**2\n",
    "    N *= aperture * eta_r\n",
    "    N *= T_atmos**2 * T_cirrus**2\n",
    "    return N"
   ]
  },
  {
   "cell_type": "markdown",
   "metadata": {},
   "source": [
    "## Probability of detection\n",
    "\n",
    "After we know the expected number of photoelectrons per pulse, we can move onto the probability of detection. From Poisson statistics, we can compute that the probability of detecting at least $n_{th}$ photoelectrons per pulse, given the mean number of photoelectrons received $n$, is\n",
    "\n",
    "\\begin{align}\n",
    "p(n, n_{th}) = 1 - e^{-n} \\sum_{m=0}^{n_{th}-1} \\frac{n^m}{m!}.\n",
    "\\end{align}\n",
    "\n",
    "When the threshold $n_{th}=2$, this becomes $ p(n,2) = 1 - e^{-n} \\left(1 + n\\right)$, which is what Diego's Excel calculation uses."
   ]
  },
  {
   "cell_type": "code",
   "execution_count": 16,
   "metadata": {
    "collapsed": true
   },
   "outputs": [],
   "source": [
    "def pulse_probability(n, threshold):\n",
    "    S = 0\n",
    "    for m in range(threshold):\n",
    "        S += n**m / factorial(m)\n",
    "    return 1 - exp(-n) * S"
   ]
  },
  {
   "cell_type": "markdown",
   "metadata": {},
   "source": [
    "## Detections per second\n",
    "\n",
    "The number of detections per second depends on all of the above, as well as the laser fire rate $f$ (pulses per second). The probability of exactly $m$ detections per second, when the probability of dection per pulse is $p$, comes from the binomial distribution,\n",
    "\n",
    "\\begin{align}\n",
    "p(f, m) = \\binom{f}{m} p^m (1-p)^{f-m}\n",
    "\\end{align}"
   ]
  },
  {
   "cell_type": "code",
   "execution_count": 17,
   "metadata": {
    "collapsed": true
   },
   "outputs": [],
   "source": [
    "def binomial(f, m, p):\n",
    "    return comb(f, m, exact=False) * p**m * (1-p)**(f-m) "
   ]
  },
  {
   "cell_type": "markdown",
   "metadata": {},
   "source": [
    "The probability that *at least* $k$ detections per second is then\n",
    "\n",
    "\\begin{align}\n",
    "p_\\text{detect}(f, k) = 1 - \\sum_{m=0}^{k-1} p(f, m)\n",
    "\\end{align}"
   ]
  },
  {
   "cell_type": "code",
   "execution_count": 18,
   "metadata": {
    "collapsed": false
   },
   "outputs": [],
   "source": [
    "def detection_probability(f, k, p):\n",
    "    return 1 - sum(binomial(f, m, p) for m in range(k))"
   ]
  },
  {
   "cell_type": "markdown",
   "metadata": {},
   "source": [
    "# Computation"
   ]
  },
  {
   "cell_type": "markdown",
   "metadata": {},
   "source": [
    "## Computing probabilities by height and zenith angle\n",
    "\n",
    "We compute the probability that there are at least 6 detections per second for a 2 kHz laser. "
   ]
  },
  {
   "cell_type": "code",
   "execution_count": 19,
   "metadata": {
    "collapsed": true
   },
   "outputs": [],
   "source": [
    "fire_rate = 2000 # pulses per second\n",
    "electrons_per_detection = 2\n",
    "detections_per_second = 6"
   ]
  },
  {
   "cell_type": "markdown",
   "metadata": {},
   "source": [
    "We use 100 different altitudes from 100 km to 450 km and eight zenith angles ranging from 70° to 0°."
   ]
  },
  {
   "cell_type": "code",
   "execution_count": 20,
   "metadata": {
    "collapsed": false
   },
   "outputs": [],
   "source": [
    "altitudes = np.linspace(100e3, 450e3, 100)\n",
    "zenith_angles = [70, 60, 50, 40, 30, 20, 10, 0]"
   ]
  },
  {
   "cell_type": "markdown",
   "metadata": {},
   "source": [
    "We use a 3 square meter optical cross section, and relatively good sky and cirrus conditions."
   ]
  },
  {
   "cell_type": "code",
   "execution_count": 21,
   "metadata": {
    "collapsed": false
   },
   "outputs": [],
   "source": [
    "cross_section = 3 # square meters\n",
    "T_cirrus = 0.8\n",
    "T_atmos = 0.7"
   ]
  },
  {
   "cell_type": "markdown",
   "metadata": {},
   "source": [
    "We loop over the zenith angles and satellite altitudes. For each zenith angle, we first compute the slant range, then the expected number of photoelectrons `ne`. Then the detection probabilities at each altitude are put in a list, which is plotted in the figure."
   ]
  },
  {
   "cell_type": "code",
   "execution_count": 22,
   "metadata": {
    "collapsed": false
   },
   "outputs": [
    {
     "data": {
      "text/plain": [
       "<matplotlib.text.Text at 0x105dbe400>"
      ]
     },
     "execution_count": 22,
     "metadata": {},
     "output_type": "execute_result"
    },
    {
     "data": {
      "image/png": "[encoded data removed]",
      "text/plain": [
       "<matplotlib.figure.Figure at 0x105d9b1d0>"
      ]
     },
     "metadata": {},
     "output_type": "display_data"
    }
   ],
   "source": [
    "for theta_z in zenith_angles:\n",
    "    probabilities = []\n",
    "    for satellite_altitude in altitudes:\n",
    "        R = slant_range(station_altitude, satellite_altitude, theta_z)\n",
    "        ne = n_electrons(eta_q, pulse_energy, wavelength, eta_t, Gt, cross_section,\n",
    "                R, aperture, eta_r, T_atmos, T_cirrus)\n",
    "        p_single = pulse_probability(ne, electrons_per_detection)\n",
    "        p = detection_probability(fire_rate, detections_per_second, p_single)\n",
    "        probabilities.append(p)\n",
    "    \n",
    "    plt.plot(altitudes / 1000, probabilities, label=\"$\\\\theta_z = {}°$\".format(theta_z))\n",
    "    \n",
    "lgd = plt.legend(loc=\"upper right\")\n",
    "plt.xlabel(\"Altitude (km)\")\n",
    "plt.ylabel(\"Probability of at least {} detections per second\".format(detections_per_second))\n",
    "        \n"
   ]
  },
  {
   "cell_type": "code",
   "execution_count": null,
   "metadata": {
    "collapsed": true
   },
   "outputs": [],
   "source": []
  }
 ],
 "metadata": {
  "kernelspec": {
   "display_name": "Python 3",
   "language": "python",
   "name": "python3"
  },
  "language_info": {
   "codemirror_mode": {
    "name": "ipython",
    "version": 3
   },
   "file_extension": ".py",
   "mimetype": "text/x-python",
   "name": "python",
   "nbconvert_exporter": "python",
   "pygments_lexer": "ipython3",
   "version": "3.6.0"
  }
 },
 "nbformat": 4,
 "nbformat_minor": 2
}
