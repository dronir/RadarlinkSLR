{
 "cells": [
  {
   "cell_type": "markdown",
   "metadata": {
    "deletable": true,
    "editable": true
   },
   "source": [
    "# Python model of the radar link equation for Metsähovi SLR\n",
    "\n",
    "This notebook is an interactive Python version of the radar link equation as given in Degnan (1993), and earlier implemented in Excel by Diego.\n",
    "\n",
    "The equation gives the number of photoelectrons expected to be received for a single laser pulse,\n",
    "\n",
    "\\begin{align}\n",
    "n_e = \\eta_q \\left( E_T \\frac{\\lambda}{hc} \\right)  \\eta_t G_t \\sigma \\left( \\frac{1}{4 \\pi R^2}\\right)^2A_r \\eta_r T_a^2 T_c^2,\n",
    "\\end{align}\n",
    "\n",
    "where $\\eta_q$ is the detector quantum efficiency, $E_T$ is the energy of the laser pulse, $\\lambda$ is the laser wavelength, $h$ the Planck constant, $c$ the speed of light, $\\eta_t$ the efficiency of the transmit optics, $G_t$ the transmitter gain, $\\sigma$ the target's optical cross section, $R$ the slant range to the target, $A_r$ the telescope aperture area, $\\eta_r$ the efficiency of the receive optics, $T_a$ the one-way atmospheric transmission and $T_c$ the one-way transmission of cirrus clouds.\n"
   ]
  },
  {
   "cell_type": "markdown",
   "metadata": {
    "deletable": true,
    "editable": true
   },
   "source": [
    "## Utility functions and constants\n",
    "\n",
    "We first import and define some utility functions and natural constants that are used in the calculation. First we import some mathematical functions and matplotlib for plots (and give the `%matplotlib inline` command to the Notebook to draw the plots inline instead of separate windows)."
   ]
  },
  {
   "cell_type": "code",
   "execution_count": 1,
   "metadata": {
    "collapsed": false,
    "deletable": true,
    "editable": true
   },
   "outputs": [],
   "source": [
    "from math import sqrt, cos, pi, exp, factorial\n",
    "from scipy.special import comb\n",
    "import numpy as np\n",
    "import matplotlib.pyplot as plt\n",
    "%matplotlib inline\n",
    "plt.rcParams['figure.figsize'] = (10, 6)"
   ]
  },
  {
   "cell_type": "markdown",
   "metadata": {
    "deletable": true,
    "editable": true
   },
   "source": [
    "Next we define constants: the product of the Planck constant and the speed of light, and the radius of the Earth (in meters)."
   ]
  },
  {
   "cell_type": "code",
   "execution_count": 2,
   "metadata": {
    "collapsed": true,
    "deletable": true,
    "editable": true
   },
   "outputs": [],
   "source": [
    "CONST_HC = 6.626176e-34 * 2.99792458e8\n",
    "R_Earth = 6378000.0"
   ]
  },
  {
   "cell_type": "markdown",
   "metadata": {
    "deletable": true,
    "editable": true
   },
   "source": [
    "Next is a function that takes all the values in a Python dictionary and multiplies them together. This is used in calculating the optical efficiencies from individual optical components."
   ]
  },
  {
   "cell_type": "code",
   "execution_count": 3,
   "metadata": {
    "collapsed": true,
    "deletable": true,
    "editable": true
   },
   "outputs": [],
   "source": [
    "def multiply_values(D):\n",
    "    result = 1\n",
    "    for value in D.values():\n",
    "        result *= value\n",
    "    return result"
   ]
  },
  {
   "cell_type": "markdown",
   "metadata": {
    "deletable": true,
    "editable": true
   },
   "source": [
    "## Optical efficiencies\n",
    "\n",
    "The transmit/receive optical efficiencies $\\eta_t$ and $\\eta_r$ are products of the efficiencies of all of the individual optical elements. These individual efficiencies are given in a Python dictionary, whose values are then multiplied together to get the final value.\n",
    "\n",
    "### Transmit efficiency"
   ]
  },
  {
   "cell_type": "code",
   "execution_count": 4,
   "metadata": {
    "collapsed": true,
    "deletable": true,
    "editable": true
   },
   "outputs": [],
   "source": [
    "def get_eta_t():\n",
    "    transmit_optics = {\n",
    "        \"TM1\" : 1.00000,\n",
    "        \"TM2\" : 0.99995,\n",
    "        \"TM3\" : 0.99995,\n",
    "        \"BEx1\" : 0.99900,\n",
    "        \"TM4\" : 0.99995,\n",
    "        \"TM5\" : 0.99000,\n",
    "        \"CW1\" : 0.99900,\n",
    "        \"CM1\" : 0.99000,\n",
    "        \"CM2\" : 0.99000,\n",
    "        \"CM3\" : 0.99000,\n",
    "        \"CM4\" : 0.99000,\n",
    "        \"CM5\" : 0.99000,\n",
    "        \"BEx2\" : 0.99900,\n",
    "        \"CW2\" : 0.99900\n",
    "    }\n",
    "    return multiply_values(transmit_optics)"
   ]
  },
  {
   "cell_type": "markdown",
   "metadata": {
    "deletable": true,
    "editable": true
   },
   "source": [
    "These values are multiplied to compute $\\eta_t$."
   ]
  },
  {
   "cell_type": "code",
   "execution_count": 5,
   "metadata": {
    "collapsed": false,
    "deletable": true,
    "editable": true
   },
   "outputs": [
    {
     "name": "stdout",
     "output_type": "stream",
     "text": [
      "eta_t = 0.93758\n"
     ]
    }
   ],
   "source": [
    "eta_t = get_eta_t()\n",
    "\n",
    "print(\"eta_t = {:.5f}\".format(eta_t))"
   ]
  },
  {
   "cell_type": "markdown",
   "metadata": {
    "deletable": true,
    "editable": true
   },
   "source": [
    "### Receive efficiency\n",
    "\n",
    "Then we compute the value of $\\eta_r$ from the values of the optics. The bandpass filter value is $0.900$ for night time observations and $0.600$ for the daytime filter. This is defined conditionally on the variable `night`."
   ]
  },
  {
   "cell_type": "code",
   "execution_count": 6,
   "metadata": {
    "collapsed": true,
    "deletable": true,
    "editable": true
   },
   "outputs": [],
   "source": [
    "def get_eta_r(night=True):\n",
    "    receive_optics = {\n",
    "        \"telW\" : 0.999,\n",
    "        \"primM\" : 0.960,\n",
    "        \"secM\" : 0.960,\n",
    "        \"detBoxW\" : 0.999,\n",
    "        \"coll\" : 0.999,\n",
    "        \"DichM1\" : 0.990,\n",
    "        \"bandpass\" : 0.900 if night else 0.600,\n",
    "        \"NDfilter\" : 0.999\n",
    "    }\n",
    "    return multiply_values(receive_optics)"
   ]
  },
  {
   "cell_type": "code",
   "execution_count": 7,
   "metadata": {
    "collapsed": false,
    "deletable": true,
    "editable": true
   },
   "outputs": [
    {
     "name": "stdout",
     "output_type": "stream",
     "text": [
      "eta_r = 0.81787\n"
     ]
    }
   ],
   "source": [
    "eta_r = get_eta_r()\n",
    "\n",
    "print(\"eta_r = {:.5f}\".format(eta_r))"
   ]
  },
  {
   "cell_type": "markdown",
   "metadata": {
    "deletable": true,
    "editable": true
   },
   "source": [
    "## Slant range calculation\n",
    "\n",
    "The following function computes the slant range to the target, given the station height (from a spherical Earth) and the target height, as well as the zenith angle to the target.\n",
    "\n",
    "The slant range is defined by Degnan (1993) as \n",
    "\n",
    "\\begin{align}\n",
    "R = -(R_E + h_t) \\cos \\theta_z + \\sqrt{(R_E + h_t)^2 \\cos^2 \\theta_z + 2 R_E (h_s - h_t)+ h_s^2 - h_t^2},\n",
    "\\end{align}\n",
    "\n",
    "where $R_E$ is the Earth radius (6378 km), $h_t$ is the station height above the Earth surface, $h_s$ is the satellite's altitude, and $\\theta_z$ is the zenith angle of the satellite as seen from the station.\n",
    "\n",
    "**Note:** in Degnan's paper, the subscript $t$ refers to transmitter and $s$ to satellite. This means that $h_t$ is station height and $h_s$ is target height…\n",
    "\n",
    "The Python function takes the zenith angle in degrees."
   ]
  },
  {
   "cell_type": "code",
   "execution_count": 8,
   "metadata": {
    "collapsed": true,
    "deletable": true,
    "editable": true
   },
   "outputs": [],
   "source": [
    "def slant_range(ht, hs, theta_z):\n",
    "    r = R_Earth + ht\n",
    "    cosz = cos(theta_z * pi/180)\n",
    "    return -r * cosz + sqrt(r**2 * cosz**2 + 2*R_Earth*(hs-ht) + hs**2 - ht**2)"
   ]
  },
  {
   "cell_type": "markdown",
   "metadata": {
    "deletable": true,
    "editable": true
   },
   "source": [
    "## Transmitter gain\n",
    "\n",
    "The formula given by Degnan (1993) for $G_t$ of a Gaussian beam is\n",
    "\n",
    "\\begin{align}\n",
    "G_t = \\frac{8}{\\theta_t^2}\\exp\\left[ -2 \\left( \\frac{\\theta}{\\theta_t} \\right) \\right],\n",
    "\\end{align}\n",
    "\n",
    "where $\\theta_t$ is the far-field divergence half-angle between the beam centre and the $1/e^2$ intensity point, and $\\theta$ is the beam pointing error ($\\theta$ is labeled \"seeing\" in Diego's Excel).\n",
    "\n",
    "The Python function takes in the angles in arcseconds. The multiplication by the constant $0.0000048481$ converts arcseconds to radians."
   ]
  },
  {
   "cell_type": "code",
   "execution_count": 9,
   "metadata": {
    "collapsed": true,
    "deletable": true,
    "editable": true
   },
   "outputs": [],
   "source": [
    "def gain(theta_t, theta):\n",
    "    return 8/(0.0000048481*theta_t)**2 * exp(-2*(theta/theta_t)**2)"
   ]
  },
  {
   "cell_type": "markdown",
   "metadata": {
    "deletable": true,
    "editable": true
   },
   "source": [
    "In Diego's Excel, the value of 2.5 arcseconds was used for both of these angles."
   ]
  },
  {
   "cell_type": "code",
   "execution_count": 10,
   "metadata": {
    "collapsed": false,
    "deletable": true,
    "editable": true
   },
   "outputs": [
    {
     "name": "stdout",
     "output_type": "stream",
     "text": [
      "Gt = 7.3702e+09\n"
     ]
    }
   ],
   "source": [
    "Gt = gain(2.5, 2.5)\n",
    "\n",
    "print(\"Gt = {:.4e}\".format(Gt))"
   ]
  },
  {
   "cell_type": "markdown",
   "metadata": {
    "deletable": true,
    "editable": true
   },
   "source": [
    "## Atmospheric effects\n",
    "\n",
    "### Atmospheric transmittance\n",
    "\n",
    "Atmospheric transmittance $T_A$ is given by Degnan (1993) as\n",
    "\n",
    "\\begin{align}\n",
    "T_A(\\lambda, V, h_t) = \\exp \\left[ -\\sigma_\\text{atm}(\\lambda, V, 0) h_\\text{scale} \\sec \\theta_z \\exp \\left( -\\frac{h_t}{h_\\text{scale}}\\right) \\right],\n",
    "\\end{align}\n",
    "\n",
    "where $h_t$ is the target altitude, $\\sigma_\\text{atm}(\\lambda, V, 0)$ is the attenuation coefficient at wavelength $\\lambda$ at sea level visibility $V$ at sea level altitude, and the scale height $h_\\text{scale}$ = 1.2 km. The attenuation coefficient $\\sigma$ is highly wavelength-dependent. Degnan doesn't give a value for $\\sigma$, but refers to the RCA Electro-Optics Handbook for plots of $\\sigma$ as a function of $\\lambda$ and $V$.\n",
    "\n",
    "Diego used hard-coded values for $T_A$. His values were computed from a simplified model where each unit of air mass $\\sec \\theta_z$ reduces the transmittance by a constant value.\n",
    "\n",
    "\\begin{align}\n",
    "T_A = T_0 - \\Delta T \\sec \\theta_z,\n",
    "\\end{align}\n",
    "\n",
    "The values he used can be found by examining the table in his Excel sheet. The change by air mass $\\Delta T$ is $0.15$ for green light and $0.07$ for infrared light. The value of $T_0$ depends on the atmospheric conditions like so:\n",
    "\n",
    "| Condition      | V       | $T_0$, green | $T_0$, IR |\n",
    "|----------------|---------|---------------------------\n",
    "| Very clear     | 50 km   |     0.95     |   1.04    |\n",
    "| Standard clear | 23.5 km |     0.84     |   0.93    |\n",
    "| Clear          | 15 km   |     0.72     |   0.82    |\n",
    "| Light haze     | 8 km    |     0.59     |   0.54    |\n",
    "\n",
    "Here's a Python implementation that takes the $T_0$ and $\\Delta T$ parameters, as well as $\\theta_z$ in degrees."
   ]
  },
  {
   "cell_type": "code",
   "execution_count": 11,
   "metadata": {
    "collapsed": false,
    "deletable": true,
    "editable": true
   },
   "outputs": [],
   "source": [
    "def atmospheric_transmittance(T0, delta, theta_z):\n",
    "    theta_z *= pi/180\n",
    "    return T0 - delta / cos(theta_z)"
   ]
  },
  {
   "cell_type": "markdown",
   "metadata": {
    "deletable": true,
    "editable": true
   },
   "source": [
    "For more general use with the selected cases, we do something more clever.\n",
    "\n",
    "First, we save these parameters in dictionaries that can be accessed by keywords (`\"green\"` etc.). Then we make a function that takes the keywords for the wavelength and atmospheric condition, and returns a function that computes the transmission for a given $\\theta_z$."
   ]
  },
  {
   "cell_type": "code",
   "execution_count": 12,
   "metadata": {
    "collapsed": false,
    "deletable": true,
    "editable": true
   },
   "outputs": [],
   "source": [
    "T0_values = {\n",
    "    \"green\" : {\n",
    "        \"very clear\" : 0.95,\n",
    "        \"standard\" : 0.84,\n",
    "        \"clear\" : 0.72,\n",
    "        \"light haze\" : 0.59\n",
    "    },\n",
    "    \"IR\" : {\n",
    "        \"very clear\" : 1.04,\n",
    "        \"standard\" : 0.93,\n",
    "        \"clear\" : 0.82,\n",
    "        \"light haze\" : 0.54\n",
    "    }\n",
    "}\n",
    "\n",
    "dT_values = {\n",
    "    \"green\" : 0.15,\n",
    "    \"IR\" : 0.07\n",
    "}\n",
    "\n",
    "def T_atmos_func(wavelength, condition):\n",
    "    T0 = T0_values[wavelength][condition]\n",
    "    dT = dT_values[wavelength]\n",
    "    def f(theta):\n",
    "        return atmospheric_transmittance(T0, dT, theta)\n",
    "    return f\n"
   ]
  },
  {
   "cell_type": "markdown",
   "metadata": {
    "deletable": true,
    "editable": true
   },
   "source": [
    "### Cirrus transmittance\n",
    "\n",
    "Cirrus cloud transmittance is given by Degnan as\n",
    "\n",
    "\\begin{align}\n",
    "T_c = -\\exp(-0.14 (t \\sec \\theta_z)^2),\n",
    "\\end{align}\n",
    "\n",
    "where $t$ is a \"cirrus cloud thickness\", that has been observed to be in the 0 to 4 range when clouds are present (see Figure 9a in Degnan's paper). The angle $\\theta_z$ should be given to the function in degrees."
   ]
  },
  {
   "cell_type": "code",
   "execution_count": 13,
   "metadata": {
    "collapsed": false,
    "deletable": true,
    "editable": true
   },
   "outputs": [],
   "source": [
    "def cirrus_transmittance(t, theta_z):\n",
    "    theta_z *= pi/180\n",
    "    return exp(-0.14 * (t / cos(theta_z))**2)"
   ]
  },
  {
   "cell_type": "markdown",
   "metadata": {
    "deletable": true,
    "editable": true
   },
   "source": [
    "## The radar link equation\n",
    "\n",
    "Finally, here is the Python implementation of the radar link equation, \n",
    "\n",
    "\\begin{align}\n",
    "n_e= \\eta_q \\left( E_T \\frac{\\lambda}{hc} \\right)  \\eta_t G_t \\sigma \\left( \\frac{1}{4 \\pi R^2}\\right)^2A_r \\eta_r T_a^2 T_c^2.\n",
    "\\end{align}\n",
    "\n",
    "The variables are given to the function in the same order as they appear in the equation."
   ]
  },
  {
   "cell_type": "code",
   "execution_count": 14,
   "metadata": {
    "collapsed": true,
    "deletable": true,
    "editable": true
   },
   "outputs": [],
   "source": [
    "def n_electrons(eta_q, pulse_energy, wavelength, eta_t, transmit_gain, cross_section,\n",
    "                R, aperture, eta_r, T_atmos, T_cirrus):\n",
    "    N = eta_q * pulse_energy * wavelength / CONST_HC\n",
    "    N *= eta_t * transmit_gain * cross_section / (4*pi*R**2)**2\n",
    "    N *= aperture * eta_r\n",
    "    N *= T_atmos**2 * T_cirrus**2\n",
    "    return N"
   ]
  },
  {
   "cell_type": "markdown",
   "metadata": {
    "deletable": true,
    "editable": true
   },
   "source": [
    "## Probability of detection\n",
    "\n",
    "After we know the expected number of photoelectrons per pulse, we can move onto the probability of detection. From Poisson statistics, we can compute that the probability of detecting at least $n_{th}$ photoelectrons per pulse, given the mean number of photoelectrons received $n$, is\n",
    "\n",
    "\\begin{align}\n",
    "p(n, n_{th}) = 1 - e^{-n} \\sum_{m=0}^{n_{th}-1} \\frac{n^m}{m!}.\n",
    "\\end{align}\n",
    "\n",
    "When the threshold $n_{th}=2$, this becomes $ p(n,2) = 1 - e^{-n} \\left(1 + n\\right)$, which is what Diego's Excel calculation uses."
   ]
  },
  {
   "cell_type": "code",
   "execution_count": 15,
   "metadata": {
    "collapsed": true,
    "deletable": true,
    "editable": true
   },
   "outputs": [],
   "source": [
    "def pulse_probability(n, threshold):\n",
    "    S = 0\n",
    "    for m in range(threshold):\n",
    "        S += n**m / factorial(m)\n",
    "    return 1 - exp(-n) * S"
   ]
  },
  {
   "cell_type": "markdown",
   "metadata": {
    "deletable": true,
    "editable": true
   },
   "source": [
    "## Detections per second\n",
    "\n",
    "The number of detections per second depends on all of the above, as well as the laser fire rate $f$ (pulses per second). The probability of exactly $m$ detections per second, when the probability of dection per pulse is $p$, comes from the binomial distribution,\n",
    "\n",
    "\\begin{align}\n",
    "p(f, m) = \\binom{f}{m} p^m (1-p)^{f-m}\n",
    "\\end{align}"
   ]
  },
  {
   "cell_type": "code",
   "execution_count": 16,
   "metadata": {
    "collapsed": true,
    "deletable": true,
    "editable": true
   },
   "outputs": [],
   "source": [
    "def binomial(f, m, p):\n",
    "    return comb(f, m, exact=False) * p**m * (1-p)**(f-m) "
   ]
  },
  {
   "cell_type": "markdown",
   "metadata": {
    "deletable": true,
    "editable": true
   },
   "source": [
    "The probability that *at least* $k$ detections per second is then\n",
    "\n",
    "\\begin{align}\n",
    "p_\\text{detect}(f, k) = 1 - \\sum_{m=0}^{k-1} p(f, m)\n",
    "\\end{align}"
   ]
  },
  {
   "cell_type": "code",
   "execution_count": 17,
   "metadata": {
    "collapsed": false,
    "deletable": true,
    "editable": true
   },
   "outputs": [],
   "source": [
    "def detection_probability(f, k, p):\n",
    "    return 1 - sum(binomial(f, m, p) for m in range(k))"
   ]
  },
  {
   "cell_type": "markdown",
   "metadata": {
    "deletable": true,
    "editable": true
   },
   "source": [
    "# Laser  comparison computation\n",
    "\n",
    "\n",
    "Here's an example of comparing different laser setups."
   ]
  },
  {
   "cell_type": "markdown",
   "metadata": {
    "deletable": true,
    "editable": true
   },
   "source": [
    "### Properties of the laser and telescope\n",
    "\n",
    "The station altitude stays constant. Also the detection criteria are held constant at two photons per detection and six detections per second."
   ]
  },
  {
   "cell_type": "code",
   "execution_count": 18,
   "metadata": {
    "collapsed": true,
    "deletable": true,
    "editable": true
   },
   "outputs": [],
   "source": [
    "station_altitude = 64.5 # meters"
   ]
  },
  {
   "cell_type": "code",
   "execution_count": 19,
   "metadata": {
    "collapsed": true,
    "deletable": true,
    "editable": true
   },
   "outputs": [],
   "source": [
    "electrons_per_detection = 2\n",
    "detections_per_second = 6"
   ]
  },
  {
   "cell_type": "markdown",
   "metadata": {
    "deletable": true,
    "editable": true
   },
   "source": [
    "### Plot by altitude for selected cross sections\n",
    "\n",
    "We put the parameters of an individual laser system into a dictionary (see below). The following function computes the probabilities for a given laser setup, an array of altitudes, with a given cross section and zenith angle."
   ]
  },
  {
   "cell_type": "code",
   "execution_count": 20,
   "metadata": {
    "collapsed": false,
    "deletable": true,
    "editable": true
   },
   "outputs": [],
   "source": [
    "def compute_by_altitude(laser, altitudes, cross_section, theta_z=30):\n",
    "    aperture = laser[\"aperture\"]\n",
    "    fire_rate = laser[\"fire_rate\"]\n",
    "    E = laser[\"pulse_energy\"]\n",
    "    lmd = laser[\"wavelength\"]\n",
    "    eta_t = laser[\"eta_t\"]\n",
    "    eta_r = laser[\"eta_r\"]\n",
    "    eta_q = laser[\"eta_q\"]\n",
    "    T_atmos = laser[\"f_atmos\"](theta_z)\n",
    "    T_cirrus = cirrus_transmittance(laser[\"t_cirrus\"], theta_z)\n",
    "    \n",
    "    outputs = []\n",
    "    for j, hs in enumerate(altitudes):\n",
    "        R = slant_range(station_altitude, hs, theta_z)\n",
    "        ne = n_electrons(eta_q, E, lmd, eta_t, Gt, cross_section,\n",
    "                         R, aperture, eta_r, T_atmos, T_cirrus)\n",
    "        p_single = pulse_probability(ne, electrons_per_detection)\n",
    "        p = detection_probability(fire_rate, detections_per_second, p_single)\n",
    "        outputs.append(p)\n",
    "    return outputs\n"
   ]
  },
  {
   "cell_type": "markdown",
   "metadata": {
    "deletable": true,
    "editable": true
   },
   "source": [
    "The following function uses the previous function to create a plot for a given dictionary of laser setups.\n",
    "\n",
    "The list of altitudes is generated with `linspace`, three cross sections are used and $\\theta_z$ is set to 30°. Each cross section gets its own line type. The function loops over the values of the `lasers` dictionary, which are the individual laser setups."
   ]
  },
  {
   "cell_type": "code",
   "execution_count": 21,
   "metadata": {
    "collapsed": true,
    "deletable": true,
    "editable": true
   },
   "outputs": [],
   "source": [
    "def plot_by_altitude(lasers):\n",
    "    altitudes = np.linspace(100e3, 1700e3, 200)\n",
    "    cross_sections = [0.5, 3, 15]\n",
    "    styles = [\"-\", \"--\", \":\"]\n",
    "    theta_z = 30\n",
    "    \n",
    "    for n, name in enumerate(lasers.keys()):\n",
    "        laser = lasers[name]\n",
    "        for i, cross_section in enumerate(cross_sections):\n",
    "            lbl = \"{}, {} m$^2$\".format(name, cross_section)\n",
    "            values = compute_by_altitude(laser, altitudes, cross_section, theta_z)\n",
    "            plt.plot(altitudes/1000, values, linestyle=styles[i], color=laser[\"plot_color\"], label=lbl)\n",
    "    plt.legend()\n",
    "    plt.xlabel(\"Altitude (km)\")\n",
    "    plt.ylabel(\"$p(k > 6)$\")\n",
    "    plt.title(\"Probability of >6 detections per second\")\n",
    "    plt.savefig(\"lasers.pdf\")"
   ]
  },
  {
   "cell_type": "markdown",
   "metadata": {
    "deletable": true,
    "editable": true
   },
   "source": [
    "We define each different laser setup as its own dictionary object:"
   ]
  },
  {
   "cell_type": "code",
   "execution_count": 22,
   "metadata": {
    "collapsed": false,
    "deletable": true,
    "editable": true
   },
   "outputs": [],
   "source": [
    "green_laser = {\n",
    "    \"pulse_energy\" : 4e-4, # Joules\n",
    "    \"wavelength\" : 532e-9, # meters\n",
    "    \"eta_q\" : 0.2,\n",
    "    \"aperture\" : 0.188, # square meters\n",
    "    \"eta_t\" : get_eta_t(),\n",
    "    \"eta_r\" : get_eta_r(),\n",
    "    \"fire_rate\" : 2000,\n",
    "    \"plot_color\" : \"green\",\n",
    "    \"f_atmos\" : T_atmos_func(\"green\", \"standard\"),\n",
    "    \"t_cirrus\" : 1.3\n",
    "}\n",
    "\n",
    "IR_laser = {\n",
    "    \"pulse_energy\" : 1.2e-3, # Joules\n",
    "    \"wavelength\" : 1064e-9, # meters\n",
    "    \"eta_q\" : 0.15,\n",
    "    \"aperture\" : 0.188, # square meters\n",
    "    \"eta_t\" : get_eta_t(),\n",
    "    \"eta_r\" : get_eta_r(),\n",
    "    \"fire_rate\" : 2000,\n",
    "    \"plot_color\" : \"red\",\n",
    "    \"f_atmos\" : T_atmos_func(\"IR\", \"standard\"),\n",
    "    \"t_cirrus\" : 1.3\n",
    "}\n",
    "\n",
    "new_laser = {\n",
    "    \"pulse_energy\" : 80e-3, # Joules\n",
    "    \"wavelength\" : 532e-9, # meters\n",
    "    \"eta_q\" : 0.2,\n",
    "    \"aperture\" : 0.188, # square meters\n",
    "    \"eta_t\" : get_eta_t(),\n",
    "    \"eta_r\" : get_eta_r(),\n",
    "    \"fire_rate\" : 200,\n",
    "    \"plot_color\" : \"blue\",\n",
    "    \"f_atmos\" : T_atmos_func(\"green\", \"standard\"),\n",
    "    \"t_cirrus\" : 1.3\n",
    "}"
   ]
  },
  {
   "cell_type": "markdown",
   "metadata": {
    "deletable": true,
    "editable": true
   },
   "source": [
    "Then we put all of these in another dictionary in order to give them labels."
   ]
  },
  {
   "cell_type": "code",
   "execution_count": 23,
   "metadata": {
    "collapsed": false,
    "deletable": true,
    "editable": true
   },
   "outputs": [],
   "source": [
    "lasers = {\n",
    "    \"Green\" : green_laser,\n",
    "    \"IR\" : IR_laser,\n",
    "    \"Graz\" : new_laser\n",
    "}"
   ]
  },
  {
   "cell_type": "markdown",
   "metadata": {
    "deletable": true,
    "editable": true
   },
   "source": [
    "Then we call the plot function for this bunch of setups to produce the plot."
   ]
  },
  {
   "cell_type": "code",
   "execution_count": 24,
   "metadata": {
    "collapsed": false,
    "deletable": true,
    "editable": true
   },
   "outputs": [
    {
     "data": {
      "image/png": "[encoded data removed]",
      "text/plain": [
       "<matplotlib.figure.Figure at 0x105790908>"
      ]
     },
     "metadata": {},
     "output_type": "display_data"
    }
   ],
   "source": [
    "plot_by_altitude(lasers)"
   ]
  },
  {
   "cell_type": "code",
   "execution_count": null,
   "metadata": {
    "collapsed": true,
    "deletable": true,
    "editable": true
   },
   "outputs": [],
   "source": []
  }
 ],
 "metadata": {
  "kernelspec": {
   "display_name": "Python 3",
   "language": "python",
   "name": "python3"
  },
  "language_info": {
   "codemirror_mode": {
    "name": "ipython",
    "version": 3
   },
   "file_extension": ".py",
   "mimetype": "text/x-python",
   "name": "python",
   "nbconvert_exporter": "python",
   "pygments_lexer": "ipython3",
   "version": "3.6.1"
  }
 },
 "nbformat": 4,
 "nbformat_minor": 2
}
